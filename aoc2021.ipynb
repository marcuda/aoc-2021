{
 "cells": [
  {
   "cell_type": "code",
   "execution_count": 1,
   "metadata": {},
   "outputs": [],
   "source": [
    "import numpy as np\n",
    "from PIL import Image\n",
    "from skimage.transform import rescale\n",
    "import itertools\n",
    "import math\n",
    "import time\n",
    "from datetime import datetime as dt\n",
    "import collections\n",
    "\n",
    "def get_input(day, split=None, f=str.strip):\n",
    "    fin = f'2021-{day}.txt'\n",
    "    if split is None:\n",
    "        input = open(fin, 'r').readlines()\n",
    "    else:\n",
    "        input = open(fin, 'r').read().split(split)\n",
    "    \n",
    "    if f is not None:\n",
    "        input = [f(x) for x in input]\n",
    "    \n",
    "    return input\n",
    "\n",
    "def timestamp(ts):\n",
    "    date = dt.fromtimestamp(ts)\n",
    "    return f'[{date.hour:02}:{date.minute:02}:{date.second:02}]'\n",
    "\n",
    "def output(*args, ts=0):\n",
    "    out = ' '.join([str(x) for x in args])\n",
    "    if ts:\n",
    "        ts = timestamp(ts)\n",
    "        sz = 76 - len(out) - len(ts)\n",
    "        if sz > 0:\n",
    "            out += ' ' * sz\n",
    "        out += ts\n",
    "    print(out)"
   ]
  },
  {
   "cell_type": "markdown",
   "metadata": {},
   "source": [
    "# Day 1"
   ]
  },
  {
   "cell_type": "code",
   "execution_count": 2,
   "metadata": {},
   "outputs": [
    {
     "name": "stdout",
     "output_type": "stream",
     "text": [
      "1688                                                              [00:01:37]\n",
      "1728                                                              [00:04:42]\n"
     ]
    }
   ],
   "source": [
    "input = get_input(1, f=int)\n",
    "\n",
    "def depth_inc(lst, win=1):\n",
    "    cnt = 0\n",
    "    for i in range(len(lst) - win):\n",
    "        if lst[i+win] > lst[i]:\n",
    "            cnt += 1\n",
    "    return cnt\n",
    "\n",
    "output(depth_inc(input), ts=1638334897)\n",
    "output(depth_inc(input, 3), ts=1638335082)"
   ]
  },
  {
   "cell_type": "markdown",
   "metadata": {},
   "source": [
    "# Day 2"
   ]
  },
  {
   "cell_type": "code",
   "execution_count": 3,
   "metadata": {},
   "outputs": [
    {
     "name": "stdout",
     "output_type": "stream",
     "text": [
      "1670340                                                           [00:02:18]\n",
      "1954293920                                                        [00:04:34]\n"
     ]
    }
   ],
   "source": [
    "input = get_input(2)\n",
    "\n",
    "def find_pos(lst, use_aim=True):\n",
    "    depth = pos = aim = 0\n",
    "    for item in lst:\n",
    "        cmd, X = item.split()\n",
    "        X = int(X)\n",
    "        if cmd == 'forward':\n",
    "            pos += X\n",
    "            if use_aim:\n",
    "                depth += X * aim\n",
    "        elif cmd == 'down':\n",
    "            if use_aim:\n",
    "                aim += X\n",
    "            else:\n",
    "                depth += X\n",
    "        elif cmd == 'up':\n",
    "            if use_aim:\n",
    "                aim -= X\n",
    "            else:\n",
    "                depth -= X\n",
    "    return depth * pos\n",
    "\n",
    "output(find_pos(input, False), ts=1638421338)\n",
    "output(find_pos(input, True), ts=1638421474)"
   ]
  },
  {
   "cell_type": "markdown",
   "metadata": {},
   "source": [
    "# Day 3"
   ]
  },
  {
   "cell_type": "code",
   "execution_count": 4,
   "metadata": {},
   "outputs": [
    {
     "name": "stdout",
     "output_type": "stream",
     "text": [
      "3969000                                                           [00:07:59]\n",
      "4267809                                                           [00:15:59]\n"
     ]
    }
   ],
   "source": [
    "input = get_input(3)\n",
    "\n",
    "cnt = [0] * (len(input[0]))\n",
    "for x in input:\n",
    "    for i,v in enumerate(x):\n",
    "        cnt[i] += int(v)\n",
    "\n",
    "sz = len(input) / 2\n",
    "gamma = epsilon = ''\n",
    "for x in cnt:\n",
    "    if x > sz:\n",
    "        gamma += '1'\n",
    "        epsilon += '0'\n",
    "    else:\n",
    "        gamma += '0'\n",
    "        epsilon += '1'\n",
    "gamma = int(gamma, 2)\n",
    "epsilon = int(epsilon, 2)\n",
    "\n",
    "output(gamma*epsilon, ts=1638508079) #1 3969000\n",
    "\n",
    "\n",
    "def bin_search(lst, pos, most=True):\n",
    "    cnt = 0\n",
    "    ones = []\n",
    "    zeros = []\n",
    "    for x in lst:\n",
    "        if int(x[pos]):\n",
    "            cnt += 1\n",
    "            ones.append(x)\n",
    "        else:\n",
    "            zeros.append(x)\n",
    "    \n",
    "    if cnt >= len(lst) / 2:\n",
    "        if most:\n",
    "            out = ones\n",
    "        else:\n",
    "            out = zeros\n",
    "    elif most:\n",
    "        out = zeros\n",
    "    else:\n",
    "        out = ones\n",
    "    \n",
    "    if len(out) == 1:\n",
    "        return int(out[0], 2)\n",
    "    \n",
    "    return bin_search(out, pos+1, most)\n",
    "\n",
    "\n",
    "o2  = bin_search(input, 0, True)\n",
    "co2 = bin_search(input, 0, False)\n",
    "output(o2 * co2, ts=1638508559) #2 4267809"
   ]
  },
  {
   "cell_type": "markdown",
   "metadata": {},
   "source": [
    "# Day 4"
   ]
  },
  {
   "cell_type": "code",
   "execution_count": 5,
   "metadata": {},
   "outputs": [
    {
     "name": "stdout",
     "output_type": "stream",
     "text": [
      "8580                                                              [00:16:17]\n",
      "9576                                                              [00:21:34]\n"
     ]
    }
   ],
   "source": [
    "input = get_input(4)\n",
    "\n",
    "calls = [int(x) for x in input[0].split(',')]\n",
    "\n",
    "boards = []\n",
    "for i in range(2, len(input)-4, 6):\n",
    "    b = []\n",
    "    for j in range(5):\n",
    "        b.append([int(x) for x in input[i+j].split()])\n",
    "    boards.append(np.asarray(b))\n",
    "\n",
    "def bingo(board):\n",
    "    for row in board:\n",
    "        if np.sum(row) == -5:\n",
    "            return True\n",
    "    for col in board.T:\n",
    "        if np.sum(col) == -5:\n",
    "            return True\n",
    "    return False\n",
    "\n",
    "def score(board, call):\n",
    "    board[np.where(board==-1)] = 0\n",
    "    return np.sum(board) * call\n",
    "\n",
    "cnt = 0\n",
    "last = len(boards)\n",
    "for x in calls:\n",
    "    hit = False\n",
    "    for b in boards:\n",
    "        if x in b:\n",
    "            b[np.where(b==x)] = -1\n",
    "            if bingo(b):\n",
    "                cnt += 1\n",
    "                if cnt == 1:\n",
    "                    output(score(b,x), ts=1638594977) #1\n",
    "                elif cnt == last:\n",
    "                    output(score(b,x), ts=1638595294) #2\n",
    "                b[:][:] = -99"
   ]
  },
  {
   "cell_type": "markdown",
   "metadata": {},
   "source": [
    "# Day 5"
   ]
  },
  {
   "cell_type": "code",
   "execution_count": 6,
   "metadata": {},
   "outputs": [
    {
     "name": "stdout",
     "output_type": "stream",
     "text": [
      "7436                                                              [00:11:25]\n",
      "21104                                                             [00:35:11]\n"
     ]
    }
   ],
   "source": [
    "def f(s):\n",
    "    a, _, b = s.split()\n",
    "    x1, y1 = [int(i) for i in a.split(',')]\n",
    "    x2, y2 = [int(i) for i in b.split(',')]  \n",
    "    return x1, y1, x2, y2\n",
    "\n",
    "input = get_input(5, f=f)\n",
    "\n",
    "vents = np.zeros((1000,1000), np.int32)\n",
    "cnt = np.ones((1000,1000), np.int32)\n",
    "\n",
    "for x1, y1, x2, y2 in input:\n",
    "    if x1 == x2:\n",
    "        if y1 > y2:\n",
    "            r = range(y2, y1+1)\n",
    "        else:\n",
    "            r = range(y1, y2+1)\n",
    "        for y in r:\n",
    "            vents[x1][y] += 1\n",
    "    elif y1 == y2:\n",
    "        if x1 > x2:\n",
    "            r = range(x2, x1+1)\n",
    "        else:\n",
    "            r = range(x1, x2+1)\n",
    "        for x in r:\n",
    "            vents[x][y1] += 1\n",
    "\n",
    "output(np.sum(cnt[np.where(vents > 1)]), ts=1638681085) #1\n",
    "\n",
    "for x1, y1, x2, y2 in input:\n",
    "    if x1 != x2 and y1 != y2:\n",
    "        if x1 < x2:\n",
    "            r = range(x1, x2+1)\n",
    "        else:\n",
    "            r = range(x1, x2-1, -1)\n",
    "        \n",
    "        if y1 < y2:\n",
    "            f = lambda a,b: a+b\n",
    "        else:\n",
    "            f = lambda a,b: a-b\n",
    "        \n",
    "        for y,x in enumerate(r):\n",
    "            vents[x][f(y1,y)] += 1\n",
    "\n",
    "output(np.sum(cnt[np.where(vents > 1)]), ts=1638682511) #2"
   ]
  },
  {
   "cell_type": "markdown",
   "metadata": {},
   "source": [
    "# Day 6"
   ]
  },
  {
   "cell_type": "code",
   "execution_count": 7,
   "metadata": {},
   "outputs": [
    {
     "name": "stdout",
     "output_type": "stream",
     "text": [
      "350149                                                            [00:11:00]\n",
      "1590327954513                                                     [00:24:42]\n"
     ]
    }
   ],
   "source": [
    "input = get_input(6, split=',', f=int)\n",
    "\n",
    "fish = collections.Counter(input) # count fish at each time\n",
    "\n",
    "def epoch(a):\n",
    "    b = {}              # next epoch\n",
    "    a[7] = a[7] + a[0]  # reset 0 -> 6 (subtract below)\n",
    "    b[8] = a[0]         # add new fish (not subtracted)\n",
    "    for i in range(8):  # subtract 1 from each\n",
    "        b[i] = a[i+1]\n",
    "    return b\n",
    "\n",
    "for day in range(80):\n",
    "    fish = epoch(fish)\n",
    "\n",
    "assert sum(fish.values()) == 350149\n",
    "output(sum(fish.values()), ts=1638767460) #1\n",
    "\n",
    "for day in range(256-80):\n",
    "    fish = epoch(fish)\n",
    "    \n",
    "assert sum(fish.values()) == 1590327954513\n",
    "output(sum(fish.values()), ts=1638768282) #2"
   ]
  },
  {
   "cell_type": "markdown",
   "metadata": {},
   "source": [
    "# Day 7"
   ]
  },
  {
   "cell_type": "code",
   "execution_count": 8,
   "metadata": {},
   "outputs": [
    {
     "name": "stdout",
     "output_type": "stream",
     "text": [
      "356992                                                            [00:04:58]\n",
      "101268110                                                         [00:12:27]\n"
     ]
    }
   ],
   "source": [
    "input = get_input(7, split=',', f=int)\n",
    "\n",
    "low_lin = low_geom = 10**20\n",
    "for i in range(max(input)):\n",
    "    cost_lin = cost_geom = 0\n",
    "    for x in input:\n",
    "        cost_lin += abs(x-i)\n",
    "        d = abs(x-i)\n",
    "        cost_geom += (d*d+d)//2\n",
    "    if cost_lin < low_lin:\n",
    "        low_lin = cost_lin\n",
    "    if cost_geom < low_geom:\n",
    "        low_geom = cost_geom\n",
    "        \n",
    "output(low_lin, ts=1638853498)\n",
    "output(low_geom, ts=1638853947)"
   ]
  },
  {
   "cell_type": "markdown",
   "metadata": {},
   "source": [
    "# Day 8"
   ]
  },
  {
   "cell_type": "code",
   "execution_count": 11,
   "metadata": {},
   "outputs": [
    {
     "name": "stdout",
     "output_type": "stream",
     "text": [
      "365                                                               [00:07:49]\n",
      "975706                                                            [00:41:30]\n"
     ]
    }
   ],
   "source": [
    "input = get_input(8)\n",
    "\n",
    "outs = [x.split('|')[1] for x in input]\n",
    "\n",
    "cnt = 0\n",
    "for x in outs:\n",
    "    for y in x.split():\n",
    "        if len(y) in [2,3,4,7]:\n",
    "            cnt += 1\n",
    "\n",
    "assert cnt == 365\n",
    "output(cnt, ts=1638940069) #1\n",
    "\n",
    "cnt = 0\n",
    "for x in input:\n",
    "    ins, outs = x.split('|')\n",
    "    ins = ins.split()\n",
    "    a = b = c = d = e = f = g = ''\n",
    "    \n",
    "    # find easy nums by length\n",
    "    for y in ins:\n",
    "        if len(y) == 2:\n",
    "            one = y\n",
    "        elif len(y) == 3:\n",
    "            seven = y\n",
    "        elif len(y) == 4:\n",
    "            four = y\n",
    "        elif len(y) == 7:\n",
    "            eight = y\n",
    "    # find three and six using one\n",
    "    for y in ins:\n",
    "        if len(y) == 5 and one[0] in y and one[1] in y:\n",
    "            three = y\n",
    "        elif len(y) == 6 and not (one[0] in y and one[1] in y):\n",
    "            six = y\n",
    "    # a - in seven but not one\n",
    "    for i in seven:\n",
    "        if i not in one:\n",
    "            a = i\n",
    "    # b - in four but not three\n",
    "    for i in four:\n",
    "        if i not in three:\n",
    "            b = i\n",
    "    # c - in eight but not six\n",
    "    for i in eight:\n",
    "        if i not in six:\n",
    "            c = i\n",
    "    # d - in three and four but not one\n",
    "    # g - in three but not four (and not a)\n",
    "    for i in three:\n",
    "        if i in four and i not in one:\n",
    "            d = i\n",
    "        elif i not in four and i != a:\n",
    "            g = i\n",
    "    # e - in six but not three (and not b)\n",
    "    # f - in six and one\n",
    "    for i in six:\n",
    "        if i not in three and i != b:\n",
    "            e = i\n",
    "        elif i in one:\n",
    "            f = i\n",
    "    \n",
    "    if '' in [a,b,c,d,e,f,g]:\n",
    "        print('shiza', ins)\n",
    "        continue\n",
    "    \n",
    "    out = ''\n",
    "    for y in outs.split():\n",
    "        if len(y) == 6 and d not in y:\n",
    "            out += '0'\n",
    "        elif len(y) == 2:\n",
    "            out += '1'\n",
    "        elif len(y) == 5 and e in y:\n",
    "            out += '2'\n",
    "        elif len(y) == 5 and c in y and f in y:\n",
    "            out += '3'\n",
    "        elif len(y) == 4:\n",
    "            out += '4'\n",
    "        elif len(y) == 5 and b in y:\n",
    "            out += '5'\n",
    "        elif len(y) == 6 and c not in y:\n",
    "            out += '6'\n",
    "        elif len(y) == 3:\n",
    "            out += '7'\n",
    "        elif len(y) == 7:\n",
    "            out += '8'\n",
    "        elif len(y) == 6 and e not in y:\n",
    "            out += '9'\n",
    "        else:\n",
    "            print('shiza', y)\n",
    "    #print(out)\n",
    "    \n",
    "    cnt += int(out)\n",
    "\n",
    "assert cnt == 975706\n",
    "output(cnt, ts=1638942090) #2"
   ]
  },
  {
   "cell_type": "markdown",
   "metadata": {},
   "source": [
    "# Day 9"
   ]
  },
  {
   "cell_type": "code",
   "execution_count": 12,
   "metadata": {},
   "outputs": [
    {
     "name": "stdout",
     "output_type": "stream",
     "text": [
      "\n"
     ]
    }
   ],
   "source": [
    "input = get_input(9)\n",
    "\n",
    "output()"
   ]
  }
 ],
 "metadata": {
  "kernelspec": {
   "display_name": "Python 3",
   "language": "python",
   "name": "python3"
  },
  "language_info": {
   "codemirror_mode": {
    "name": "ipython",
    "version": 3
   },
   "file_extension": ".py",
   "mimetype": "text/x-python",
   "name": "python",
   "nbconvert_exporter": "python",
   "pygments_lexer": "ipython3",
   "version": "3.7.0"
  }
 },
 "nbformat": 4,
 "nbformat_minor": 2
}
