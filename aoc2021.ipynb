{
 "cells": [
  {
   "cell_type": "code",
   "execution_count": 1,
   "metadata": {},
   "outputs": [],
   "source": [
    "import numpy as np\n",
    "from PIL import Image\n",
    "from skimage.transform import rescale\n",
    "from skimage import measure as sk_measure\n",
    "import itertools\n",
    "import math\n",
    "import time\n",
    "from datetime import datetime as dt\n",
    "import collections\n",
    "\n",
    "def get_input(day, split=None, f=str.strip):\n",
    "    fin = f'dat/2021-{day}.txt'\n",
    "    if split is None:\n",
    "        input = open(fin, 'r').readlines()\n",
    "    else:\n",
    "        input = open(fin, 'r').read().split(split)\n",
    "    \n",
    "    if f is not None:\n",
    "        input = [f(x) for x in input]\n",
    "    \n",
    "    return input\n",
    "\n",
    "def timestamp(ts):\n",
    "    date = dt.fromtimestamp(ts)\n",
    "    return f'[{date.hour:02}:{date.minute:02}:{date.second:02}]'\n",
    "\n",
    "def output(*args, ts=0):\n",
    "    out = ' '.join([str(x) for x in args])\n",
    "    if ts:\n",
    "        ts = timestamp(ts)\n",
    "        sz = 76 - len(out) - len(ts)\n",
    "        if sz > 0:\n",
    "            out += ' ' * sz\n",
    "        out += ts\n",
    "    print(out)\n",
    "\n",
    "def as_ints(input):    \n",
    "    nums = []\n",
    "    for x in input:\n",
    "        x = [int(c) for c in x]\n",
    "        nums.append(x)\n",
    "    return np.asarray(nums)"
   ]
  },
  {
   "cell_type": "markdown",
   "metadata": {},
   "source": [
    "# Day 1"
   ]
  },
  {
   "cell_type": "code",
   "execution_count": 2,
   "metadata": {},
   "outputs": [
    {
     "name": "stdout",
     "output_type": "stream",
     "text": [
      "1688                                                              [05:01:37]\n",
      "1728                                                              [05:04:42]\n"
     ]
    }
   ],
   "source": [
    "input = get_input(1, f=int)\n",
    "\n",
    "def depth_inc(lst, win=1):\n",
    "    cnt = 0\n",
    "    for i in range(len(lst) - win):\n",
    "        if lst[i+win] > lst[i]:\n",
    "            cnt += 1\n",
    "    return cnt\n",
    "\n",
    "output(depth_inc(input), ts=1638334897)\n",
    "output(depth_inc(input, 3), ts=1638335082)"
   ]
  },
  {
   "cell_type": "markdown",
   "metadata": {},
   "source": [
    "# Day 2"
   ]
  },
  {
   "cell_type": "code",
   "execution_count": 3,
   "metadata": {},
   "outputs": [
    {
     "name": "stdout",
     "output_type": "stream",
     "text": [
      "1670340                                                           [05:02:18]\n",
      "1954293920                                                        [05:04:34]\n"
     ]
    }
   ],
   "source": [
    "input = get_input(2)\n",
    "\n",
    "def find_pos(lst, use_aim=True):\n",
    "    depth = pos = aim = 0\n",
    "    for item in lst:\n",
    "        cmd, X = item.split()\n",
    "        X = int(X)\n",
    "        if cmd == 'forward':\n",
    "            pos += X\n",
    "            if use_aim:\n",
    "                depth += X * aim\n",
    "        elif cmd == 'down':\n",
    "            if use_aim:\n",
    "                aim += X\n",
    "            else:\n",
    "                depth += X\n",
    "        elif cmd == 'up':\n",
    "            if use_aim:\n",
    "                aim -= X\n",
    "            else:\n",
    "                depth -= X\n",
    "    return depth * pos\n",
    "\n",
    "output(find_pos(input, False), ts=1638421338)\n",
    "output(find_pos(input, True), ts=1638421474)"
   ]
  },
  {
   "cell_type": "markdown",
   "metadata": {},
   "source": [
    "# Day 3"
   ]
  },
  {
   "cell_type": "code",
   "execution_count": 4,
   "metadata": {},
   "outputs": [
    {
     "name": "stdout",
     "output_type": "stream",
     "text": [
      "3969000                                                           [05:07:59]\n",
      "4267809                                                           [05:15:59]\n"
     ]
    }
   ],
   "source": [
    "input = get_input(3)\n",
    "\n",
    "cnt = [0] * (len(input[0]))\n",
    "for x in input:\n",
    "    for i,v in enumerate(x):\n",
    "        cnt[i] += int(v)\n",
    "\n",
    "sz = len(input) / 2\n",
    "gamma = epsilon = ''\n",
    "for x in cnt:\n",
    "    if x > sz:\n",
    "        gamma += '1'\n",
    "        epsilon += '0'\n",
    "    else:\n",
    "        gamma += '0'\n",
    "        epsilon += '1'\n",
    "gamma = int(gamma, 2)\n",
    "epsilon = int(epsilon, 2)\n",
    "\n",
    "output(gamma*epsilon, ts=1638508079) #1 3969000\n",
    "\n",
    "\n",
    "def bin_search(lst, pos, most=True):\n",
    "    cnt = 0\n",
    "    ones = []\n",
    "    zeros = []\n",
    "    for x in lst:\n",
    "        if int(x[pos]):\n",
    "            cnt += 1\n",
    "            ones.append(x)\n",
    "        else:\n",
    "            zeros.append(x)\n",
    "    \n",
    "    if cnt >= len(lst) / 2:\n",
    "        if most:\n",
    "            out = ones\n",
    "        else:\n",
    "            out = zeros\n",
    "    elif most:\n",
    "        out = zeros\n",
    "    else:\n",
    "        out = ones\n",
    "    \n",
    "    if len(out) == 1:\n",
    "        return int(out[0], 2)\n",
    "    \n",
    "    return bin_search(out, pos+1, most)\n",
    "\n",
    "\n",
    "o2  = bin_search(input, 0, True)\n",
    "co2 = bin_search(input, 0, False)\n",
    "output(o2 * co2, ts=1638508559) #2 4267809"
   ]
  },
  {
   "cell_type": "markdown",
   "metadata": {},
   "source": [
    "# Day 4"
   ]
  },
  {
   "cell_type": "code",
   "execution_count": 5,
   "metadata": {},
   "outputs": [
    {
     "name": "stdout",
     "output_type": "stream",
     "text": [
      "8580                                                              [05:16:17]\n",
      "9576                                                              [05:21:34]\n"
     ]
    }
   ],
   "source": [
    "input = get_input(4)\n",
    "\n",
    "calls = [int(x) for x in input[0].split(',')]\n",
    "\n",
    "boards = []\n",
    "for i in range(2, len(input)-4, 6):\n",
    "    b = []\n",
    "    for j in range(5):\n",
    "        b.append([int(x) for x in input[i+j].split()])\n",
    "    boards.append(np.asarray(b))\n",
    "\n",
    "def bingo(board):\n",
    "    for row in board:\n",
    "        if np.sum(row) == -5:\n",
    "            return True\n",
    "    for col in board.T:\n",
    "        if np.sum(col) == -5:\n",
    "            return True\n",
    "    return False\n",
    "\n",
    "def score(board, call):\n",
    "    board[np.where(board==-1)] = 0\n",
    "    return np.sum(board) * call\n",
    "\n",
    "cnt = 0\n",
    "last = len(boards)\n",
    "for x in calls:\n",
    "    hit = False\n",
    "    for b in boards:\n",
    "        if x in b:\n",
    "            b[np.where(b==x)] = -1\n",
    "            if bingo(b):\n",
    "                cnt += 1\n",
    "                if cnt == 1:\n",
    "                    output(score(b,x), ts=1638594977) #1\n",
    "                elif cnt == last:\n",
    "                    output(score(b,x), ts=1638595294) #2\n",
    "                b[:][:] = -99"
   ]
  },
  {
   "cell_type": "markdown",
   "metadata": {},
   "source": [
    "# Day 5"
   ]
  },
  {
   "cell_type": "code",
   "execution_count": 6,
   "metadata": {},
   "outputs": [
    {
     "name": "stdout",
     "output_type": "stream",
     "text": [
      "7436                                                              [05:11:25]\n",
      "21104                                                             [05:35:11]\n"
     ]
    }
   ],
   "source": [
    "def f(s):\n",
    "    a, _, b = s.split()\n",
    "    x1, y1 = [int(i) for i in a.split(',')]\n",
    "    x2, y2 = [int(i) for i in b.split(',')]  \n",
    "    return x1, y1, x2, y2\n",
    "\n",
    "input = get_input(5, f=f)\n",
    "\n",
    "vents = np.zeros((1000,1000), np.int32)\n",
    "cnt = np.ones((1000,1000), np.int32)\n",
    "\n",
    "for x1, y1, x2, y2 in input:\n",
    "    if x1 == x2:\n",
    "        if y1 > y2:\n",
    "            r = range(y2, y1+1)\n",
    "        else:\n",
    "            r = range(y1, y2+1)\n",
    "        for y in r:\n",
    "            vents[x1][y] += 1\n",
    "    elif y1 == y2:\n",
    "        if x1 > x2:\n",
    "            r = range(x2, x1+1)\n",
    "        else:\n",
    "            r = range(x1, x2+1)\n",
    "        for x in r:\n",
    "            vents[x][y1] += 1\n",
    "\n",
    "output(np.sum(cnt[np.where(vents > 1)]), ts=1638681085) #1\n",
    "\n",
    "for x1, y1, x2, y2 in input:\n",
    "    if x1 != x2 and y1 != y2:\n",
    "        if x1 < x2:\n",
    "            r = range(x1, x2+1)\n",
    "        else:\n",
    "            r = range(x1, x2-1, -1)\n",
    "        \n",
    "        if y1 < y2:\n",
    "            f = lambda a,b: a+b\n",
    "        else:\n",
    "            f = lambda a,b: a-b\n",
    "        \n",
    "        for y,x in enumerate(r):\n",
    "            vents[x][f(y1,y)] += 1\n",
    "\n",
    "output(np.sum(cnt[np.where(vents > 1)]), ts=1638682511) #2"
   ]
  },
  {
   "cell_type": "markdown",
   "metadata": {},
   "source": [
    "# Day 6"
   ]
  },
  {
   "cell_type": "code",
   "execution_count": 7,
   "metadata": {},
   "outputs": [
    {
     "name": "stdout",
     "output_type": "stream",
     "text": [
      "350149                                                            [05:11:00]\n",
      "1590327954513                                                     [05:24:42]\n"
     ]
    }
   ],
   "source": [
    "input = get_input(6, split=',', f=int)\n",
    "\n",
    "fish = collections.Counter(input) # count fish at each time\n",
    "\n",
    "def epoch(a):\n",
    "    b = {}              # next epoch\n",
    "    a[7] = a[7] + a[0]  # reset 0 -> 6 (subtract below)\n",
    "    b[8] = a[0]         # add new fish (not subtracted)\n",
    "    for i in range(8):  # subtract 1 from each\n",
    "        b[i] = a[i+1]\n",
    "    return b\n",
    "\n",
    "for day in range(80):\n",
    "    fish = epoch(fish)\n",
    "\n",
    "assert sum(fish.values()) == 350149\n",
    "output(sum(fish.values()), ts=1638767460) #1\n",
    "\n",
    "for day in range(256-80):\n",
    "    fish = epoch(fish)\n",
    "    \n",
    "assert sum(fish.values()) == 1590327954513\n",
    "output(sum(fish.values()), ts=1638768282) #2"
   ]
  },
  {
   "cell_type": "markdown",
   "metadata": {},
   "source": [
    "# Day 7"
   ]
  },
  {
   "cell_type": "code",
   "execution_count": 8,
   "metadata": {},
   "outputs": [
    {
     "name": "stdout",
     "output_type": "stream",
     "text": [
      "356992                                                            [05:04:58]\n",
      "101268110                                                         [05:12:27]\n"
     ]
    }
   ],
   "source": [
    "input = get_input(7, split=',', f=int)\n",
    "\n",
    "low_lin = low_geom = 10**20\n",
    "for i in range(max(input)):\n",
    "    cost_lin = cost_geom = 0\n",
    "    for x in input:\n",
    "        cost_lin += abs(x-i)\n",
    "        d = abs(x-i)\n",
    "        cost_geom += (d*d+d)//2\n",
    "    if cost_lin < low_lin:\n",
    "        low_lin = cost_lin\n",
    "    if cost_geom < low_geom:\n",
    "        low_geom = cost_geom\n",
    "        \n",
    "output(low_lin, ts=1638853498)\n",
    "output(low_geom, ts=1638853947)"
   ]
  },
  {
   "cell_type": "markdown",
   "metadata": {},
   "source": [
    "# Day 8"
   ]
  },
  {
   "cell_type": "code",
   "execution_count": 9,
   "metadata": {},
   "outputs": [
    {
     "name": "stdout",
     "output_type": "stream",
     "text": [
      "365                                                               [05:07:49]\n",
      "975706                                                            [05:41:30]\n"
     ]
    }
   ],
   "source": [
    "input = get_input(8)\n",
    "\n",
    "outs = [x.split('|')[1] for x in input]\n",
    "\n",
    "cnt = 0\n",
    "for x in outs:\n",
    "    for y in x.split():\n",
    "        if len(y) in [2,3,4,7]:\n",
    "            cnt += 1\n",
    "\n",
    "assert cnt == 365\n",
    "output(cnt, ts=1638940069) #1\n",
    "\n",
    "cnt = 0\n",
    "for x in input:\n",
    "    ins, outs = x.split('|')\n",
    "    ins = ins.split()\n",
    "    a = b = c = d = e = f = g = ''\n",
    "    \n",
    "    # find easy nums by length\n",
    "    for y in ins:\n",
    "        if len(y) == 2:\n",
    "            one = y\n",
    "        elif len(y) == 3:\n",
    "            seven = y\n",
    "        elif len(y) == 4:\n",
    "            four = y\n",
    "        elif len(y) == 7:\n",
    "            eight = y\n",
    "    # find three and six using one\n",
    "    for y in ins:\n",
    "        if len(y) == 5 and one[0] in y and one[1] in y:\n",
    "            three = y\n",
    "        elif len(y) == 6 and not (one[0] in y and one[1] in y):\n",
    "            six = y\n",
    "    # a - in seven but not one\n",
    "    for i in seven:\n",
    "        if i not in one:\n",
    "            a = i\n",
    "    # b - in four but not three\n",
    "    for i in four:\n",
    "        if i not in three:\n",
    "            b = i\n",
    "    # c - in eight but not six\n",
    "    for i in eight:\n",
    "        if i not in six:\n",
    "            c = i\n",
    "    # d - in three and four but not one\n",
    "    # g - in three but not four (and not a)\n",
    "    for i in three:\n",
    "        if i in four and i not in one:\n",
    "            d = i\n",
    "        elif i not in four and i != a:\n",
    "            g = i\n",
    "    # e - in six but not three (and not b)\n",
    "    # f - in six and one\n",
    "    for i in six:\n",
    "        if i not in three and i != b:\n",
    "            e = i\n",
    "        elif i in one:\n",
    "            f = i\n",
    "    \n",
    "    if '' in [a,b,c,d,e,f,g]:\n",
    "        print('shiza', ins)\n",
    "        continue\n",
    "    \n",
    "    out = ''\n",
    "    for y in outs.split():\n",
    "        if len(y) == 6 and d not in y:\n",
    "            out += '0'\n",
    "        elif len(y) == 2:\n",
    "            out += '1'\n",
    "        elif len(y) == 5 and e in y:\n",
    "            out += '2'\n",
    "        elif len(y) == 5 and c in y and f in y:\n",
    "            out += '3'\n",
    "        elif len(y) == 4:\n",
    "            out += '4'\n",
    "        elif len(y) == 5 and b in y:\n",
    "            out += '5'\n",
    "        elif len(y) == 6 and c not in y:\n",
    "            out += '6'\n",
    "        elif len(y) == 3:\n",
    "            out += '7'\n",
    "        elif len(y) == 7:\n",
    "            out += '8'\n",
    "        elif len(y) == 6 and e not in y:\n",
    "            out += '9'\n",
    "        else:\n",
    "            print('shiza', y)\n",
    "    #print(out)\n",
    "    \n",
    "    cnt += int(out)\n",
    "\n",
    "assert cnt == 975706\n",
    "output(cnt, ts=1638942090) #2"
   ]
  },
  {
   "cell_type": "markdown",
   "metadata": {},
   "source": [
    "# Day 9"
   ]
  },
  {
   "cell_type": "code",
   "execution_count": 10,
   "metadata": {},
   "outputs": [
    {
     "name": "stdout",
     "output_type": "stream",
     "text": [
      "436                                                               [05:13:04]\n",
      "1317792                                                           [05:35:00]\n"
     ]
    }
   ],
   "source": [
    "input = get_input(9)\n",
    "\n",
    "nums = []\n",
    "for x in input:\n",
    "    x = [int(c) for c in x]\n",
    "    nums.append(x)\n",
    "nums = np.asarray(nums)\n",
    "\n",
    "w = len(nums[0])\n",
    "h = len(nums)\n",
    "cnt = 0\n",
    "for y,row in enumerate(nums):\n",
    "    for x,val in enumerate(row):\n",
    "        if x < w-1 and val >= nums[y][x+1]: continue\n",
    "        if x > 0 and val >= nums[y][x-1]: continue\n",
    "        if y < h-1 and val >= nums[y+1][x]: continue\n",
    "        if y > 0 and val >= nums[y-1][x]: continue\n",
    "        cnt += val + 1\n",
    "\n",
    "output(cnt, ts=1639026784) #1\n",
    "\n",
    "# or...\n",
    "#from skimage import morphology\n",
    "#minima = nums[np.where(morphology.local_minima(nums))]\n",
    "#cnt = sum(minima) + len(minima)\n",
    "\n",
    "# basins are bordered by 9s or edges, everything else is equiv\n",
    "nums[np.where(nums < 9)] = 1\n",
    "# label each basin as a unique group\n",
    "img = sk_measure.label(nums, connectivity=1)\n",
    "# mask out the 9s borders to leave just basins\n",
    "img[np.where(nums == 9)] = 0\n",
    "# let skimage do the heavy lifting\n",
    "props = sk_measure.regionprops(img)\n",
    "# get the largest basins\n",
    "basins = sorted([p.area for p in props], reverse=True)\n",
    "out = 1\n",
    "for b in sorted(basins, reverse=True)[:3]:\n",
    "    out *= b\n",
    "\n",
    "assert out == 1317792\n",
    "output(out, ts=1639028100)"
   ]
  },
  {
   "cell_type": "markdown",
   "metadata": {},
   "source": [
    "# Day 10"
   ]
  },
  {
   "cell_type": "code",
   "execution_count": 11,
   "metadata": {},
   "outputs": [
    {
     "name": "stdout",
     "output_type": "stream",
     "text": [
      "216297                                                            [05:15:03]\n",
      "2165057169.0                                                      [05:22:18]\n"
     ]
    }
   ],
   "source": [
    "input = get_input(10)\n",
    "\n",
    "def points(x):\n",
    "    if x == ')':return 3\n",
    "    if x == ']':return 57\n",
    "    if x == '}':return 1197\n",
    "    if x == '>':return 25137\n",
    "\n",
    "def points2(x):\n",
    "    if x == ')':return 1\n",
    "    if x == ']':return 2\n",
    "    if x == '}':return 3\n",
    "    if x == '>':return 4\n",
    "\n",
    "closure = {\n",
    "    '<': '>',\n",
    "    '[': ']',\n",
    "    '{': '}',\n",
    "    '(': ')'\n",
    "}\n",
    "\n",
    "errors = 0\n",
    "total = []\n",
    "for line in input:\n",
    "    expected = ''\n",
    "    score = 0\n",
    "    for x in line:\n",
    "        if x in closure:\n",
    "            expected += closure[x]\n",
    "        elif x != expected[-1]:\n",
    "            score += points(x)\n",
    "            break\n",
    "        else:\n",
    "            expected = expected[:-1]\n",
    "    \n",
    "    if score > 0:\n",
    "        errors += score\n",
    "    else:\n",
    "        for x in reversed(expected):\n",
    "            score *= 5\n",
    "            score += points2(x)\n",
    "        total.append(score)    \n",
    "\n",
    "assert errors == 216297\n",
    "output(errors, ts=1639113303)\n",
    "\n",
    "assert np.median(total) == 2165057169\n",
    "output(np.median(total), ts=1639113738)"
   ]
  },
  {
   "cell_type": "markdown",
   "metadata": {},
   "source": [
    "# Day 11"
   ]
  },
  {
   "cell_type": "code",
   "execution_count": 12,
   "metadata": {},
   "outputs": [
    {
     "name": "stdout",
     "output_type": "stream",
     "text": [
      "1691\n",
      "216\n"
     ]
    }
   ],
   "source": [
    "input = as_ints(get_input(11))\n",
    "\n",
    "def flash(x, y, arr):\n",
    "    w, h = arr.shape\n",
    "    if x > 0: arr[y][x-1] += 1\n",
    "    if x > 0 and y > 0: arr[y-1][x-1] += 1\n",
    "    if y > 0: arr[y-1][x] += 1\n",
    "    if y > 0 and x < w-1: arr[y-1][x+1] += 1\n",
    "    if x < w-1: arr[y][x+1] += 1\n",
    "    if x < w-1 and y < h-1: arr[y+1][x+1] += 1\n",
    "    if y < h-1: arr[y+1][x] += 1\n",
    "    if y < h-1 and x > 0: arr[y+1][x-1] += 1\n",
    "\n",
    "def octo_step(arr):\n",
    "    mask = np.zeros(arr.shape, np.int32)\n",
    "    arr += 1\n",
    "    hit = True\n",
    "    while hit:\n",
    "        hit = False\n",
    "        flashes = np.where(arr > 9)\n",
    "        for y,x in zip(flashes[0], flashes[1]):\n",
    "            if mask[y][x] == 0:\n",
    "                hit = True\n",
    "                flash(x, y, arr)\n",
    "        mask[flashes] = 1\n",
    "    arr[np.where(mask)] = 0\n",
    "    #print(arr)\n",
    "    return np.sum(mask)\n",
    "\n",
    "cnt = 0\n",
    "for i in range(100):\n",
    "    cnt += octo_step(input)\n",
    "output(cnt) #1\n",
    "\n",
    "cnt = 100\n",
    "for i in range(10000):\n",
    "    cnt += 1\n",
    "    if octo_step(input) == input.size:\n",
    "        break\n",
    "output(cnt) #2"
   ]
  },
  {
   "cell_type": "markdown",
   "metadata": {},
   "source": [
    "# Day 12"
   ]
  },
  {
   "cell_type": "code",
   "execution_count": 13,
   "metadata": {},
   "outputs": [
    {
     "name": "stdout",
     "output_type": "stream",
     "text": [
      "4775\n",
      "152480\n"
     ]
    }
   ],
   "source": [
    "input = get_input(12)\n",
    "\n",
    "input = [x.split('-') for x in input]\n",
    "\n",
    "def next_cave(cave, path, allow_two):\n",
    "    p = None\n",
    "    can_go = False\n",
    "    can_go = cave.isupper() or cave not in path\n",
    "    if cave.isupper():\n",
    "        can_go = True\n",
    "    elif cave == 'start':\n",
    "        can_go = False\n",
    "    elif cave not in path:\n",
    "        can_go == True\n",
    "    elif allow_two:\n",
    "        caves = [x for x in path if x.islower()]\n",
    "        if max(collections.Counter(caves).values()) == 1:\n",
    "            can_go = True\n",
    "    \n",
    "    if can_go:\n",
    "        p = path.copy()\n",
    "        p.append(cave)\n",
    "    return p\n",
    "\n",
    "def extend_path(cave, path, allow_two):\n",
    "    paths = []\n",
    "    for a,b in input:\n",
    "        if a == cave:\n",
    "            p = next_cave(b, path, allow_two)\n",
    "            if p:\n",
    "                paths.append(p)\n",
    "        elif b == cave:\n",
    "            p = next_cave(a, path, allow_two)\n",
    "            if p:\n",
    "                paths.append(p)\n",
    "    return paths\n",
    "    \n",
    "def search(paths, allow_two=False):\n",
    "    if len(paths) == 0:\n",
    "        cave = 'start'\n",
    "        path = [cave]\n",
    "        return extend_path(cave, path, allow_two)\n",
    "    \n",
    "    new_paths = []\n",
    "    for p in paths:\n",
    "        cave = p[-1]\n",
    "        if cave == 'end':\n",
    "            new_paths.append(p)\n",
    "        else:\n",
    "            new_paths.extend(extend_path(cave, p, allow_two))\n",
    "    return new_paths\n",
    "    \n",
    "paths = search([])\n",
    "while True:\n",
    "    paths = search(paths)\n",
    "    ends = set(x[-1] for x in paths)\n",
    "    if len(ends) == 1 and 'end' in ends: break\n",
    "\n",
    "#for p in paths:print(p)\n",
    "    \n",
    "output(len(paths)) #1\n",
    "\n",
    "paths = search([])\n",
    "while True:\n",
    "    paths = search(paths, True)\n",
    "    ends = set(x[-1] for x in paths)\n",
    "    if len(ends) == 1 and 'end' in ends: break\n",
    "\n",
    "#for p in paths:print(p)\n",
    "    \n",
    "output(len(paths)) #2"
   ]
  },
  {
   "cell_type": "markdown",
   "metadata": {},
   "source": [
    "# Day 13"
   ]
  },
  {
   "cell_type": "code",
   "execution_count": 14,
   "metadata": {},
   "outputs": [
    {
     "name": "stdout",
     "output_type": "stream",
     "text": [
      "103\n",
      "###  #  #  ##  #    ###   ##  ###   ##  \n",
      "#  # #  # #  # #    #  # #  # #  # #  # \n",
      "#  # #### #  # #    #  # #    #  # #  # \n",
      "###  #  # #### #    ###  #    ###  #### \n",
      "# #  #  # #  # #    # #  #  # # #  #  # \n",
      "#  # #  # #  # #### #  #  ##  #  # #  # \n"
     ]
    }
   ],
   "source": [
    "input = get_input(13)\n",
    "\n",
    "dots = []\n",
    "folds = []\n",
    "for x in input:\n",
    "    if not x:\n",
    "        continue\n",
    "    elif 'fold' in x:\n",
    "        folds.append(x.split()[2].split('='))\n",
    "    else:\n",
    "        dots.append([int(c) for c in x.split(',')])\n",
    "        \n",
    "w = max([x[0] for x in dots]) + 1\n",
    "h = max([x[1] for x in dots]) + 1\n",
    "if w % 2 == 0: w += 1\n",
    "if h % 2 == 0: h += 1\n",
    "\n",
    "arr = np.zeros((h,w), np.int32)\n",
    "for x,y in dots:\n",
    "    arr[y][x] = 1\n",
    "\n",
    "dots = arr\n",
    "\n",
    "#print(dots)\n",
    "for d, loc in folds:\n",
    "    loc = int(loc)\n",
    "    #print(d,loc,dots.shape,loc*2+1)\n",
    "    if d == 'y':\n",
    "        for y in range(loc):\n",
    "            for x in range(w):\n",
    "                dots[y][x] = dots[y][x] or dots[h-y-1][x]\n",
    "        h = loc\n",
    "        dots = dots[:h,:]\n",
    "    else:\n",
    "        for y in range(h):\n",
    "            for x in range(loc):\n",
    "                dots[y][x] = dots[y][x] or dots[y][w-x-1]\n",
    "        w = loc\n",
    "        dots = dots[:,:w]\n",
    "\n",
    "    #print(dots)\n",
    "    #break\n",
    "\n",
    "output(np.sum(dots))\n",
    "for row in dots:\n",
    "    line = [str(x) for x in row]\n",
    "    print(''.join(line).replace('1','#').replace('0',' '))"
   ]
  },
  {
   "cell_type": "markdown",
   "metadata": {},
   "source": [
    "# Day 14"
   ]
  },
  {
   "cell_type": "code",
   "execution_count": null,
   "metadata": {},
   "outputs": [],
   "source": []
  }
 ],
 "metadata": {
  "kernelspec": {
   "display_name": "Python 3",
   "language": "python",
   "name": "python3"
  },
  "language_info": {
   "codemirror_mode": {
    "name": "ipython",
    "version": 3
   },
   "file_extension": ".py",
   "mimetype": "text/x-python",
   "name": "python",
   "nbconvert_exporter": "python",
   "pygments_lexer": "ipython3",
   "version": "3.8.10"
  }
 },
 "nbformat": 4,
 "nbformat_minor": 2
}
